{
 "cells": [
  {
   "cell_type": "markdown",
   "id": "e5107155-c2a0-4695-9295-0faf0b88616e",
   "metadata": {},
   "source": [
    "Puteh System is working and she is very happy"
   ]
  },
  {
   "cell_type": "code",
   "execution_count": 6,
   "id": "730441db-346c-40ad-88b2-129fe54227bc",
   "metadata": {},
   "outputs": [
    {
     "ename": "IndentationError",
     "evalue": "unexpected indent (2664942271.py, line 2)",
     "output_type": "error",
     "traceback": [
      "\u001b[1;36m  Cell \u001b[1;32mIn[6], line 2\u001b[1;36m\u001b[0m\n\u001b[1;33m    print(\"Angry Puteh\")\u001b[0m\n\u001b[1;37m    ^\u001b[0m\n\u001b[1;31mIndentationError\u001b[0m\u001b[1;31m:\u001b[0m unexpected indent\n"
     ]
    }
   ],
   "source": [
    "# This code is to show the mood of Puteh\n",
    "print(\"Happy Puteh\")\n",
    "\n",
    "print(\"Hello Puteh\")"
   ]
  },
  {
   "cell_type": "code",
   "execution_count": null,
   "id": "7518ecf3-e690-4646-ae0a-84f0882999c9",
   "metadata": {},
   "outputs": [],
   "source": []
  },
  {
   "cell_type": "code",
   "execution_count": null,
   "id": "cabb6446-4033-43f0-a204-c653a95666b8",
   "metadata": {},
   "outputs": [],
   "source": []
  }
 ],
 "metadata": {
  "kernelspec": {
   "display_name": "Python 3 (ipykernel)",
   "language": "python",
   "name": "python3"
  },
  "language_info": {
   "codemirror_mode": {
    "name": "ipython",
    "version": 3
   },
   "file_extension": ".py",
   "mimetype": "text/x-python",
   "name": "python",
   "nbconvert_exporter": "python",
   "pygments_lexer": "ipython3",
   "version": "3.12.7"
  }
 },
 "nbformat": 4,
 "nbformat_minor": 5
}
