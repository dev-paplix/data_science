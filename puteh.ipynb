{
 "cells": [
  {
   "cell_type": "markdown",
   "id": "e5107155-c2a0-4695-9295-0faf0b88616e",
   "metadata": {},
   "source": [
    "Puteh System is working and she is very happy"
   ]
  },
  {
   "cell_type": "markdown",
   "id": "152d04c2-80f8-499f-a162-3c3c66eb7638",
   "metadata": {},
   "source": [
    "Parantethis = ()\n",
    "Bracket = []\n",
    "Curly Bracket = {}\n",
    "colon = :\n",
    "Semi colon = ;\n",
    "Hashtag = #\n",
    "Dollor sign = $"
   ]
  },
  {
   "cell_type": "code",
   "execution_count": 9,
   "id": "730441db-346c-40ad-88b2-129fe54227bc",
   "metadata": {},
   "outputs": [
    {
     "name": "stdout",
     "output_type": "stream",
     "text": [
      "Happy Puteh\n",
      "Hello Puteh\n"
     ]
    }
   ],
   "source": [
    "# This code is to show the mood of Puteh\n",
    "print(\"Happy Puteh\")\n",
    "\n",
    "print(\"Hello Puteh\")"
   ]
  },
  {
   "cell_type": "code",
   "execution_count": 10,
   "id": "7518ecf3-e690-4646-ae0a-84f0882999c9",
   "metadata": {},
   "outputs": [
    {
     "data": {
      "text/plain": [
       "7"
      ]
     },
     "execution_count": 10,
     "metadata": {},
     "output_type": "execute_result"
    }
   ],
   "source": [
    "3+4"
   ]
  },
  {
   "cell_type": "code",
   "execution_count": 11,
   "id": "cabb6446-4033-43f0-a204-c653a95666b8",
   "metadata": {},
   "outputs": [
    {
     "data": {
      "text/plain": [
       "63"
      ]
     },
     "execution_count": 11,
     "metadata": {},
     "output_type": "execute_result"
    }
   ],
   "source": [
    "(3+4)*9"
   ]
  },
  {
   "cell_type": "code",
   "execution_count": 12,
   "id": "33487193-8b56-4d10-b718-da7f719bf09a",
   "metadata": {},
   "outputs": [
    {
     "name": "stdout",
     "output_type": "stream",
     "text": [
      "Puteh\n"
     ]
    }
   ],
   "source": [
    "name = \"Puteh\"\n",
    "print(name)"
   ]
  },
  {
   "cell_type": "code",
   "execution_count": 18,
   "id": "43e17fcc-db6a-49f9-b60e-edcfc32897fa",
   "metadata": {},
   "outputs": [
    {
     "name": "stdout",
     "output_type": "stream",
     "text": [
      "30 5\n"
     ]
    }
   ],
   "source": [
    "i = 5\n",
    "j = 6\n",
    "p = i * j\n",
    "print(p, i)"
   ]
  },
  {
   "cell_type": "markdown",
   "id": "adea407e-6877-49c6-bca9-3f3ce464cce1",
   "metadata": {},
   "source": [
    "Print your name, the age, your work experience and the coffee fee\n",
    "\n",
    "Coffee fee is calculation:\n",
    "added 6% at top of the coffe which is worth 13.54 RM "
   ]
  },
  {
   "cell_type": "markdown",
   "id": "3a0c02ff-0ec2-48f9-8b2b-e4f09191ed84",
   "metadata": {},
   "source": [
    "Three kind of common variable naming\n",
    "\n",
    "Camel Case = coffeeFeeTax\n",
    "Snake case = coffee_fee_tax\n",
    "Capital case = CoffeeFeeTax"
   ]
  },
  {
   "cell_type": "code",
   "execution_count": 29,
   "id": "62d3f511-174e-47b7-b6d7-f8d1ec1479fb",
   "metadata": {},
   "outputs": [
    {
     "name": "stdout",
     "output_type": "stream",
     "text": [
      "20 100\n",
      "0\n",
      "0.2\n",
      "0.2\n",
      "5.0\n",
      "1.0\n"
     ]
    }
   ],
   "source": [
    "a = 10\n",
    "b =  2\n",
    "c = a*b\n",
    "d = a**b\n",
    "e = c/d\n",
    "f = d/c\n",
    "print(c, d)\n",
    "print(a%b)\n",
    "print(e)\n",
    "print(e%a)\n",
    "print(f)\n",
    "print(f%2)\n"
   ]
  },
  {
   "cell_type": "markdown",
   "id": "ac8357fd-5e19-424d-be97-785fd18eebe2",
   "metadata": {},
   "source": [
    "Calculate the area of rectangle (length * width)\n",
    "width = 12.3\n",
    "length = 4\n",
    "Finder remainder divided by 4"
   ]
  },
  {
   "cell_type": "code",
   "execution_count": 35,
   "id": "bcd9a260-87e9-4ab2-a10d-3510d3f1753c",
   "metadata": {},
   "outputs": [
    {
     "name": "stdout",
     "output_type": "stream",
     "text": [
      "Too young come back later\n"
     ]
    }
   ],
   "source": [
    "# If and else statement\n",
    "\n",
    "age = -10\n",
    "\n",
    "if age >= 34:\n",
    "    print(\"You are still young\")\n",
    "elif age <= 33:\n",
    "    print(\"Too young come back later\")\n",
    "else:\n",
    "    print(\"life is good\")\n",
    "\n",
    "\n",
    "\n"
   ]
  },
  {
   "cell_type": "markdown",
   "id": "bab2cd6c-d553-4521-96df-5a74866d0710",
   "metadata": {},
   "source": [
    "Latte has 120 calories, and Americano has just 25 calories, create a statement, which if Henry is 90+ KG he can just have Americano, if he is bellow 80 KG he can have Latter and if he is in between, he can choose whatever he wants"
   ]
  },
  {
   "cell_type": "code",
   "execution_count": 9,
   "id": "39a13e8d-e1c5-4b21-bf6a-ffa95b407e0b",
   "metadata": {},
   "outputs": [
    {
     "name": "stdout",
     "output_type": "stream",
     "text": [
      "Drink Latte\n"
     ]
    }
   ],
   "source": [
    "henry_weight = 100\n",
    "henry_height = 190\n",
    "\n",
    "if (henry_weight<=89 and henry_weight>=80):\n",
    "    print(\"Proper choice is Cuppocino\")\n",
    "    \n",
    "elif (henry_weight>=101 or henry_height<=180):\n",
    "    print(\"Too fat have just Americano\")\n",
    "\n",
    "elif (henry_height<=200 and henry_weight>95):\n",
    "    print(\"Drink Latte\")\n",
    "else:\n",
    "    print(\"Drink whatever you want\")\n",
    "    "
   ]
  },
  {
   "cell_type": "markdown",
   "id": "1e4d10d2-660d-47c5-a144-22d8a1840a07",
   "metadata": {},
   "source": [
    "Adjust the tempreture of the room. If the tempreture is between 22 to 25, the room is comfortable, if the tempreture is above 25, it is too hot and if its below 22 it is very cold."
   ]
  },
  {
   "cell_type": "code",
   "execution_count": 2,
   "id": "c28c007d-5743-4c7c-a12d-22e3f5336055",
   "metadata": {},
   "outputs": [
    {
     "name": "stdout",
     "output_type": "stream",
     "text": [
      "0\n",
      "1\n",
      "2\n",
      "3\n",
      "4\n"
     ]
    }
   ],
   "source": [
    "for i in range(5):\n",
    "    print(i)"
   ]
  },
  {
   "cell_type": "code",
   "execution_count": 4,
   "id": "a309a10c-950f-458d-a0a7-7fd4473e0497",
   "metadata": {},
   "outputs": [
    {
     "name": "stdout",
     "output_type": "stream",
     "text": [
      "0\n",
      "0.5\n",
      "1.0\n",
      "1.5\n",
      "2.0\n",
      "2.5\n",
      "3.0\n",
      "3.5\n",
      "4.0\n",
      "4.5\n"
     ]
    }
   ],
   "source": [
    "count = 0\n",
    "while count<5:\n",
    "    print(count)\n",
    "    count+=0.5"
   ]
  },
  {
   "cell_type": "markdown",
   "id": "dd43da48-ce30-4776-bbeb-ca8d986f2528",
   "metadata": {},
   "source": [
    "1.\tWrite a loop to print numbers from 1 to 10.\n",
    "2.\tCreate a loop that prints even numbers from 2 to 20.\n"
   ]
  },
  {
   "cell_type": "code",
   "execution_count": 13,
   "id": "af434fc5-921a-45ab-8ca8-8b4b436ab9a8",
   "metadata": {},
   "outputs": [
    {
     "name": "stdout",
     "output_type": "stream",
     "text": [
      "['Afeeq', 'Iman', 'Puteh', 'Oscar']\n"
     ]
    }
   ],
   "source": [
    "names = [\"Afeeq\", \"Iman\", \"Puteh\"]\n",
    "\n",
    "# for name in names:\n",
    "#     print(name)\n",
    "\n",
    "# print (names[0])\n",
    "\n",
    "names.append(\"Oscar\")\n",
    "print(names)"
   ]
  },
  {
   "cell_type": "code",
   "execution_count": 19,
   "id": "dc6b25c1-3beb-4c48-8fa1-712219b9da22",
   "metadata": {},
   "outputs": [
    {
     "name": "stdout",
     "output_type": "stream",
     "text": [
      "Afeeq\n",
      "Iman\n",
      "Athira\n",
      "Oscar\n",
      "Aqil\n",
      "Hakim\n",
      "Oscar the great\n",
      "Puteh\n",
      "Hitam\n"
     ]
    }
   ],
   "source": [
    "names = [\n",
    "    [\"Afeeq\", \"Iman\", \"Athira\"],\n",
    "    [\"Oscar\", \"Aqil\", \"Hakim\"],\n",
    "    [\"Oscar the great\", \"Puteh\", \"Hitam\"]\n",
    "]\n",
    "# print(names[2][1])\n",
    "\n",
    "for i in names:\n",
    "    for name in i:\n",
    "        print(name)"
   ]
  },
  {
   "cell_type": "markdown",
   "id": "449ccf1e-bcac-4de6-9180-407ea573d2f6",
   "metadata": {},
   "source": [
    "Create Matrix with 12 cars, then print it is very expensive if the output is Porche, if the output is Proton, Prudua, and Toyota the output is affordable, otherwise the output is middle price range"
   ]
  },
  {
   "cell_type": "code",
   "execution_count": 21,
   "id": "60ef884f-4f29-408d-b32b-cef55fd16f46",
   "metadata": {},
   "outputs": [
    {
     "name": "stdout",
     "output_type": "stream",
     "text": [
      "The  Porche  is too expensive\n",
      "The  BMW  is middle range price\n",
      "The  Masserati  is middle range price\n",
      "The  Proton  is affordable\n",
      "The  Jaguar  is middle range price\n",
      "The  Nissan  is middle range price\n",
      "The  Prudua  is affordable\n",
      "The  Toyota  is affordable\n",
      "The  Ford  is middle range price\n",
      "The  Lambo  is middle range price\n",
      "The  Honda  is middle range price\n",
      "The  Kia  is middle range price\n"
     ]
    }
   ],
   "source": [
    "cars = [\n",
    "    [\"Porche\", \"BMW\", \"Masserati\"],\n",
    "    [\"Proton\", \"Jaguar\", \"Nissan\"],\n",
    "    [\"Prudua\", \"Toyota\", \"Ford\"],\n",
    "    [\"Lambo\", \"Honda\", \"Kia\"]\n",
    "]\n",
    "\n",
    "for i in cars:\n",
    "    for car in i:\n",
    "        if(car == \"Porche\"):\n",
    "            print(\"The \", car, \" is too expensive\")\n",
    "        elif(car == \"Prudua\" or car == \"Proton\" or car == \"Toyota\"):\n",
    "            print(\"The \", car ,\" is affordable\")\n",
    "        else:\n",
    "            print(\"The \", car, \" is middle range price\")"
   ]
  },
  {
   "cell_type": "code",
   "execution_count": 31,
   "id": "07ac84c9-4b15-466e-a67f-4026d129ad6a",
   "metadata": {},
   "outputs": [
    {
     "name": "stdout",
     "output_type": "stream",
     "text": [
      "{'name': 'Little Athirah', 'age': 5, 'car': 'Toy'}\n"
     ]
    }
   ],
   "source": [
    "name = \"Athirah\"\n",
    "age = 25\n",
    "student = [{\"name\":\"Athirah\", \"age\":25 , \"car\":\"Mustang\"},{\"name\":\"Little Athirah\", \"age\":5 , \"car\":\"Toy\"}]\n",
    "print(student[1])"
   ]
  },
  {
   "cell_type": "markdown",
   "id": "b7ec9827-2365-4bad-8644-bc316140408e",
   "metadata": {},
   "source": [
    "Create 3 dictionaries with at least 3 set of parameters, each contains:\n",
    "age, perfect gift for that age, and birthday date\n",
    "If the person is over 34 shows the age\n",
    "If person is below 15 shows the date\n",
    "if the person is between 15 to 34 shows the birthday gift"
   ]
  },
  {
   "cell_type": "code",
   "execution_count": 36,
   "id": "2c24618a-ffe2-4b57-aaa5-84a75408ec77",
   "metadata": {},
   "outputs": [
    {
     "name": "stdout",
     "output_type": "stream",
     "text": [
      "She was born in  15/02/2020\n",
      "Danger Athira wants to drive  Mustang\n",
      "She is  34  years old\n"
     ]
    }
   ],
   "source": [
    "athiras = [\n",
    "            {\"age\":5, \"gift\": \"Barbie\", \"DOB\": \"15/02/2020\"},\n",
    "            {\"age\":24, \"gift\": \"Mustang\", \"DOB\": \"15/02/2001\"},\n",
    "            {\"age\":34, \"gift\": \"Handbag\", \"DOB\": \"15/02/1991\"}\n",
    "          ]\n",
    "for i in athiras:\n",
    "    if(i[\"age\"]>=34):\n",
    "        print(\"She is \", i[\"age\"], \" years old\")\n",
    "    elif(i[\"age\"]>=15 and i[\"age\"]<=33):\n",
    "        print(\"Danger Athira wants to drive \", i[\"gift\"])\n",
    "    elif(i[\"age\"]<=14):\n",
    "        print(\"She was born in \", i[\"DOB\"])"
   ]
  },
  {
   "cell_type": "code",
   "execution_count": 41,
   "id": "eeba00ca-a4c4-465d-a061-7c828d3bd75c",
   "metadata": {},
   "outputs": [
    {
     "name": "stdout",
     "output_type": "stream",
     "text": [
      "Hello, Athirah!\n",
      "Hello, Oscar!\n",
      "Hello, Afiq!\n",
      "15\n",
      "25\n"
     ]
    }
   ],
   "source": [
    "def greet(name):\n",
    "    return f\"Hello, {name}!\"\n",
    "    \n",
    "print(greet(\"Athirah\"))\n",
    "print(greet(\"Oscar\"))\n",
    "print(greet(\"Afiq\"))\n",
    "\n",
    "def add(a, b):\n",
    "    return a + b\n",
    "\n",
    "print(add(10, 5))\n",
    "print(add(20, 5))"
   ]
  }
 ],
 "metadata": {
  "kernelspec": {
   "display_name": "Python 3 (ipykernel)",
   "language": "python",
   "name": "python3"
  },
  "language_info": {
   "codemirror_mode": {
    "name": "ipython",
    "version": 3
   },
   "file_extension": ".py",
   "mimetype": "text/x-python",
   "name": "python",
   "nbconvert_exporter": "python",
   "pygments_lexer": "ipython3",
   "version": "3.12.7"
  }
 },
 "nbformat": 4,
 "nbformat_minor": 5
}
